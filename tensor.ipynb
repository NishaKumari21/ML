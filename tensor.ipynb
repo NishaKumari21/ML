{
 "cells": [
  {
   "cell_type": "code",
   "execution_count": null,
   "id": "6bede7bf-21b5-43c8-9e43-c7edf85581ae",
   "metadata": {},
   "outputs": [],
   "source": [
    "\n",
    "# A tensor is a multi-dimensional array used in Machine Learning and Deep Learning (especially in frameworks like TensorFlow and PyTorch). The dimensions (or ranks) of tensors define their shape and complexity."
   ]
  },
  {
   "cell_type": "code",
   "execution_count": null,
   "id": "8359b1fd-3899-4645-9b68-117677ba5563",
   "metadata": {},
   "outputs": [],
   "source": [
    "# 0D tensor or Scalar"
   ]
  },
  {
   "cell_type": "code",
   "execution_count": 3,
   "id": "7bf187cc-21e6-4865-86c5-6cbceb33c428",
   "metadata": {},
   "outputs": [],
   "source": [
    "import numpy as np\n"
   ]
  },
  {
   "cell_type": "code",
   "execution_count": 7,
   "id": "e8833800-c960-46cb-8813-cfd3533654cc",
   "metadata": {},
   "outputs": [
    {
     "data": {
      "text/plain": [
       "array(2)"
      ]
     },
     "execution_count": 7,
     "metadata": {},
     "output_type": "execute_result"
    }
   ],
   "source": [
    "zero_D=np.array(2)\n",
    "zero_D"
   ]
  },
  {
   "cell_type": "code",
   "execution_count": 9,
   "id": "46b0c0c0-e6a5-4c9f-947b-ea10176d168f",
   "metadata": {},
   "outputs": [
    {
     "data": {
      "text/plain": [
       "0"
      ]
     },
     "execution_count": 9,
     "metadata": {},
     "output_type": "execute_result"
    }
   ],
   "source": [
    "zero_D.ndim\n",
    "# 0 dimension means o tensor or scalar"
   ]
  },
  {
   "cell_type": "code",
   "execution_count": null,
   "id": "92e8e6e9-101d-4674-ac1b-7b324345562a",
   "metadata": {},
   "outputs": [],
   "source": [
    "# one Tensor is also known as:\n",
    "# 1.1 D array\n",
    "# 2. Vector\n",
    "# 3. ndim=1\n",
    "# 1 D tesnor is a collection of Scalar"
   ]
  },
  {
   "cell_type": "code",
   "execution_count": 11,
   "id": "070a1ca0-97ec-46d0-b3ff-5e50ac04d622",
   "metadata": {},
   "outputs": [
    {
     "data": {
      "text/plain": [
       "array([2, 3, 4, 6])"
      ]
     },
     "execution_count": 11,
     "metadata": {},
     "output_type": "execute_result"
    }
   ],
   "source": [
    "one_D=np.array([2,3,4,6])\n",
    "one_D"
   ]
  },
  {
   "cell_type": "code",
   "execution_count": 13,
   "id": "79f21c26-278b-4b9a-b641-d84d6cdada6a",
   "metadata": {},
   "outputs": [
    {
     "data": {
      "text/plain": [
       "1"
      ]
     },
     "execution_count": 13,
     "metadata": {},
     "output_type": "execute_result"
    }
   ],
   "source": [
    "one_D.ndim"
   ]
  },
  {
   "cell_type": "code",
   "execution_count": null,
   "id": "cb28fb4b-e45b-4fea-b727-aad9bd88cad6",
   "metadata": {},
   "outputs": [],
   "source": [
    "# no of axis=rank=no of dimension"
   ]
  },
  {
   "cell_type": "code",
   "execution_count": null,
   "id": "8d8b5d09-f5cd-40f8-95b3-46f3e427fd88",
   "metadata": {},
   "outputs": [],
   "source": [
    "# 2 D tensors(matrics)\n",
    "# collections of vectors\n",
    "# rank(axis)=2\n",
    "# rows and column"
   ]
  },
  {
   "cell_type": "code",
   "execution_count": 15,
   "id": "5da7f3ae-128c-41a1-9a3f-117047fb242f",
   "metadata": {},
   "outputs": [
    {
     "data": {
      "text/plain": [
       "array([[2, 3, 5],\n",
       "       [5, 6, 8]])"
      ]
     },
     "execution_count": 15,
     "metadata": {},
     "output_type": "execute_result"
    }
   ],
   "source": [
    "two_D=np.array([[2,3,5],[5,6,8]])\n",
    "two_D"
   ]
  },
  {
   "cell_type": "code",
   "execution_count": 17,
   "id": "ad5e8e55-53c0-43f5-abac-51115d00dd87",
   "metadata": {},
   "outputs": [
    {
     "data": {
      "text/plain": [
       "2"
      ]
     },
     "execution_count": 17,
     "metadata": {},
     "output_type": "execute_result"
    }
   ],
   "source": [
    "two_D.ndim"
   ]
  },
  {
   "cell_type": "code",
   "execution_count": null,
   "id": "3df748b2-3ec7-47e7-89a7-3c3273f05ddc",
   "metadata": {},
   "outputs": [],
   "source": [
    "#  3D Tensor (3rd Order Tensor)\n",
    "# 🔹 Shape: (Depth × Height × Width) → Example: 4 × 3 × 3\n",
    "# 🔹 Representation: A collection of 2D matrices stacked together.\n",
    "# 🔹 Use Case: RGB images (where each channel Red, Green, and Blue is a 2D matrix)."
   ]
  },
  {
   "cell_type": "code",
   "execution_count": 19,
   "id": "cb76c111-fde8-4290-84d0-c5959d2c3828",
   "metadata": {},
   "outputs": [
    {
     "data": {
      "text/plain": [
       "array([[[3, 4, 5],\n",
       "        [5, 6, 8],\n",
       "        [7, 8, 9]]])"
      ]
     },
     "execution_count": 19,
     "metadata": {},
     "output_type": "execute_result"
    }
   ],
   "source": [
    "three_D=np.array([[[3,4,5],[5,6,8],[7,8,9]]])\n",
    "three_D"
   ]
  },
  {
   "cell_type": "code",
   "execution_count": 21,
   "id": "6842b273-0d98-42c1-b182-98dbdce0a0ba",
   "metadata": {},
   "outputs": [
    {
     "data": {
      "text/plain": [
       "3"
      ]
     },
     "execution_count": 21,
     "metadata": {},
     "output_type": "execute_result"
    }
   ],
   "source": [
    "three_D.ndim"
   ]
  },
  {
   "cell_type": "code",
   "execution_count": null,
   "id": "3795c0ec-201f-477c-acd3-69ce3b81ddda",
   "metadata": {},
   "outputs": [],
   "source": [
    "# 4D Tensor (4th Order Tensor)\n",
    "# 🔹 Shape: (Batch Size × Depth × Height × Width)\n",
    "# 🔹 Representation: A collection of 3D tensors stacked together.\n",
    "# 🔹 Use Case: A batch of multiple RGB images (used in CNNs)."
   ]
  },
  {
   "cell_type": "code",
   "execution_count": 37,
   "id": "014810b6-d45f-433e-9fd4-7d15da95c147",
   "metadata": {},
   "outputs": [],
   "source": [
    "# 3D tensor ko 4D aur 5D tensor mein convert karne ke liye, hum np.expand_dims() ka use karenge.It add extra one axis to the given axis."
   ]
  },
  {
   "cell_type": "code",
   "execution_count": 29,
   "id": "3a985865-f5b2-4149-b8e6-3df02acb2c19",
   "metadata": {},
   "outputs": [
    {
     "name": "stdout",
     "output_type": "stream",
     "text": [
      "(1, 1, 3, 3)\n"
     ]
    }
   ],
   "source": [
    "four_D = np.expand_dims(three_D, axis=0)\n",
    "print(four_D.shape)  # Output: (1, 1, 3, 3)"
   ]
  },
  {
   "cell_type": "code",
   "execution_count": 33,
   "id": "2b745237-2f53-4850-88f9-421965ad09e7",
   "metadata": {},
   "outputs": [
    {
     "data": {
      "text/plain": [
       "4"
      ]
     },
     "execution_count": 33,
     "metadata": {},
     "output_type": "execute_result"
    }
   ],
   "source": [
    "four_D.ndim"
   ]
  },
  {
   "cell_type": "code",
   "execution_count": 39,
   "id": "8c8779ca-fd99-4745-9a1f-42b47dbd282c",
   "metadata": {},
   "outputs": [
    {
     "name": "stdout",
     "output_type": "stream",
     "text": [
      "(2, 3, 3, 3)\n",
      "[[[[ 1  2  3]\n",
      "   [ 4  5  6]\n",
      "   [ 7  8  9]]\n",
      "\n",
      "  [[10 11 12]\n",
      "   [13 14 15]\n",
      "   [16 17 18]]\n",
      "\n",
      "  [[19 20 21]\n",
      "   [22 23 24]\n",
      "   [25 26 27]]]\n",
      "\n",
      "\n",
      " [[[28 29 30]\n",
      "   [31 32 33]\n",
      "   [34 35 36]]\n",
      "\n",
      "  [[37 38 39]\n",
      "   [40 41 42]\n",
      "   [43 44 45]]\n",
      "\n",
      "  [[46 47 48]\n",
      "   [49 50 51]\n",
      "   [52 53 54]]]]\n"
     ]
    }
   ],
   "source": [
    "four_D = np.array([\n",
    "    [  # First batch\n",
    "        [[1, 2, 3], [4, 5, 6], [7, 8, 9]],    # First depth\n",
    "        [[10, 11, 12], [13, 14, 15], [16, 17, 18]],  # Second depth\n",
    "        [[19, 20, 21], [22, 23, 24], [25, 26, 27]]   # Third depth\n",
    "    ],\n",
    "    [  # Second batch\n",
    "        [[28, 29, 30], [31, 32, 33], [34, 35, 36]], \n",
    "        [[37, 38, 39], [40, 41, 42], [43, 44, 45]], \n",
    "        [[46, 47, 48], [49, 50, 51], [52, 53, 54]]\n",
    "    ]\n",
    "])\n",
    "\n",
    "print(four_D.shape)  # Output: (2, 3, 3, 3)\n",
    "print(four_D)"
   ]
  },
  {
   "cell_type": "code",
   "execution_count": null,
   "id": "4ba1c7c1-40dd-45bb-88aa-a70eeef6a8e7",
   "metadata": {},
   "outputs": [],
   "source": [
    "#  5D Tensor (5th Order Tensor)\n",
    "# 🔹 Shape: (Batch Size × Time Steps × Depth × Height × Width)\n",
    "# 🔹 Representation: A collection of 4D tensors stacked together.\n",
    "# 🔹 Use Case: Video processing (where each frame is an image, and multiple frames are stacked together)."
   ]
  },
  {
   "cell_type": "code",
   "execution_count": 31,
   "id": "e67a088e-e841-4957-b1c6-68646d83add1",
   "metadata": {},
   "outputs": [
    {
     "name": "stdout",
     "output_type": "stream",
     "text": [
      "(1, 1, 1, 3, 3)\n"
     ]
    }
   ],
   "source": [
    "five_D = np.expand_dims(four_D, axis=0)\n",
    "print(five_D.shape)  # Output: (1, 1, 3, 3)"
   ]
  },
  {
   "cell_type": "code",
   "execution_count": 35,
   "id": "9772d88e-15cf-4852-827e-a1ba0fb7a47d",
   "metadata": {},
   "outputs": [
    {
     "data": {
      "text/plain": [
       "5"
      ]
     },
     "execution_count": 35,
     "metadata": {},
     "output_type": "execute_result"
    }
   ],
   "source": [
    "five_D.ndim"
   ]
  },
  {
   "cell_type": "code",
   "execution_count": null,
   "id": "0865cdb7-d741-4c45-9ba6-892f57d5e654",
   "metadata": {},
   "outputs": [],
   "source": []
  },
  {
   "cell_type": "code",
   "execution_count": null,
   "id": "273ec491-ca34-4867-b8a7-9aa2870e6180",
   "metadata": {},
   "outputs": [],
   "source": []
  }
 ],
 "metadata": {
  "kernelspec": {
   "display_name": "Python 3 (ipykernel)",
   "language": "python",
   "name": "python3"
  },
  "language_info": {
   "codemirror_mode": {
    "name": "ipython",
    "version": 3
   },
   "file_extension": ".py",
   "mimetype": "text/x-python",
   "name": "python",
   "nbconvert_exporter": "python",
   "pygments_lexer": "ipython3",
   "version": "3.12.7"
  },
  "widgets": {
   "application/vnd.jupyter.widget-state+json": {
    "state": {},
    "version_major": 2,
    "version_minor": 0
   }
  }
 },
 "nbformat": 4,
 "nbformat_minor": 5
}
