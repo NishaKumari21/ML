{
 "cells": [
  {
   "cell_type": "code",
   "execution_count": 4,
   "metadata": {},
   "outputs": [
    {
     "ename": "ModuleNotFoundError",
     "evalue": "No module named 'pandas_Profiling'",
     "output_type": "error",
     "traceback": [
      "\u001b[1;31m---------------------------------------------------------------------------\u001b[0m",
      "\u001b[1;31mModuleNotFoundError\u001b[0m                       Traceback (most recent call last)",
      "Cell \u001b[1;32mIn[4], line 2\u001b[0m\n\u001b[0;32m      1\u001b[0m \u001b[38;5;28;01mimport\u001b[39;00m \u001b[38;5;21;01mpandas\u001b[39;00m \u001b[38;5;28;01mas\u001b[39;00m \u001b[38;5;21;01mpd\u001b[39;00m\n\u001b[1;32m----> 2\u001b[0m \u001b[38;5;28;01mfrom\u001b[39;00m \u001b[38;5;21;01mpandas_Profiling\u001b[39;00m \u001b[38;5;28;01mimport\u001b[39;00m ProfileReport\n",
      "\u001b[1;31mModuleNotFoundError\u001b[0m: No module named 'pandas_Profiling'"
     ]
    }
   ],
   "source": [
    "import pandas as pd\n",
    "from pandas_Profiling import ProfileReport"
   ]
  },
  {
   "cell_type": "code",
   "execution_count": 3,
   "metadata": {},
   "outputs": [
    {
     "name": "stdout",
     "output_type": "stream",
     "text": [
      "Defaulting to user installation because normal site-packages is not writeable\n",
      "Requirement already satisfied: ydata_profiling in c:\\users\\hp\\appdata\\roaming\\python\\python312\\site-packages (4.16.1)\n",
      "Requirement already satisfied: scipy<1.16,>=1.4.1 in c:\\users\\hp\\appdata\\roaming\\python\\python312\\site-packages (from ydata_profiling) (1.14.0)\n",
      "Requirement already satisfied: pandas!=1.4.0,<3.0,>1.1 in c:\\users\\hp\\appdata\\roaming\\python\\python312\\site-packages (from ydata_profiling) (2.2.2)\n",
      "Requirement already satisfied: matplotlib<=3.10,>=3.5 in c:\\users\\hp\\appdata\\roaming\\python\\python312\\site-packages (from ydata_profiling) (3.9.1)\n",
      "Requirement already satisfied: pydantic>=2 in c:\\users\\hp\\appdata\\roaming\\python\\python312\\site-packages (from ydata_profiling) (2.9.1)\n",
      "Requirement already satisfied: PyYAML<6.1,>=5.0.0 in c:\\users\\hp\\appdata\\roaming\\python\\python312\\site-packages (from ydata_profiling) (6.0.1)\n",
      "Requirement already satisfied: jinja2<3.2,>=2.11.1 in c:\\users\\hp\\appdata\\roaming\\python\\python312\\site-packages (from ydata_profiling) (3.1.4)\n",
      "Requirement already satisfied: visions<0.8.2,>=0.7.5 in c:\\users\\hp\\appdata\\roaming\\python\\python312\\site-packages (from visions[type_image_path]<0.8.2,>=0.7.5->ydata_profiling) (0.8.1)\n",
      "Requirement already satisfied: numpy<2.2,>=1.16.0 in c:\\users\\hp\\appdata\\roaming\\python\\python312\\site-packages (from ydata_profiling) (1.26.4)\n",
      "Requirement already satisfied: htmlmin==0.1.12 in c:\\users\\hp\\appdata\\roaming\\python\\python312\\site-packages (from ydata_profiling) (0.1.12)\n",
      "Requirement already satisfied: phik<0.13,>=0.11.1 in c:\\users\\hp\\appdata\\roaming\\python\\python312\\site-packages (from ydata_profiling) (0.12.4)\n",
      "Requirement already satisfied: requests<3,>=2.24.0 in c:\\users\\hp\\appdata\\roaming\\python\\python312\\site-packages (from ydata_profiling) (2.32.3)\n",
      "Requirement already satisfied: tqdm<5,>=4.48.2 in c:\\users\\hp\\appdata\\roaming\\python\\python312\\site-packages (from ydata_profiling) (4.66.5)\n",
      "Requirement already satisfied: seaborn<0.14,>=0.10.1 in c:\\users\\hp\\appdata\\roaming\\python\\python312\\site-packages (from ydata_profiling) (0.13.2)\n",
      "Requirement already satisfied: multimethod<2,>=1.4 in c:\\users\\hp\\appdata\\roaming\\python\\python312\\site-packages (from ydata_profiling) (1.12)\n",
      "Requirement already satisfied: statsmodels<1,>=0.13.2 in c:\\users\\hp\\appdata\\roaming\\python\\python312\\site-packages (from ydata_profiling) (0.14.4)\n",
      "Requirement already satisfied: typeguard<5,>=3 in c:\\users\\hp\\appdata\\roaming\\python\\python312\\site-packages (from ydata_profiling) (4.4.2)\n",
      "Requirement already satisfied: imagehash==4.3.1 in c:\\users\\hp\\appdata\\roaming\\python\\python312\\site-packages (from ydata_profiling) (4.3.1)\n",
      "Requirement already satisfied: wordcloud>=1.9.3 in c:\\users\\hp\\appdata\\roaming\\python\\python312\\site-packages (from ydata_profiling) (1.9.4)\n",
      "Requirement already satisfied: dacite>=1.8 in c:\\users\\hp\\appdata\\roaming\\python\\python312\\site-packages (from ydata_profiling) (1.9.2)\n",
      "Requirement already satisfied: numba<=0.61,>=0.56.0 in c:\\users\\hp\\appdata\\roaming\\python\\python312\\site-packages (from ydata_profiling) (0.61.0)\n",
      "Requirement already satisfied: PyWavelets in c:\\users\\hp\\appdata\\roaming\\python\\python312\\site-packages (from imagehash==4.3.1->ydata_profiling) (1.8.0)\n",
      "Requirement already satisfied: pillow in c:\\users\\hp\\appdata\\roaming\\python\\python312\\site-packages (from imagehash==4.3.1->ydata_profiling) (10.4.0)\n",
      "Requirement already satisfied: MarkupSafe>=2.0 in c:\\users\\hp\\appdata\\roaming\\python\\python312\\site-packages (from jinja2<3.2,>=2.11.1->ydata_profiling) (2.1.5)\n",
      "Requirement already satisfied: contourpy>=1.0.1 in c:\\users\\hp\\appdata\\roaming\\python\\python312\\site-packages (from matplotlib<=3.10,>=3.5->ydata_profiling) (1.2.1)\n",
      "Requirement already satisfied: cycler>=0.10 in c:\\users\\hp\\appdata\\roaming\\python\\python312\\site-packages (from matplotlib<=3.10,>=3.5->ydata_profiling) (0.12.1)\n",
      "Requirement already satisfied: fonttools>=4.22.0 in c:\\users\\hp\\appdata\\roaming\\python\\python312\\site-packages (from matplotlib<=3.10,>=3.5->ydata_profiling) (4.53.1)\n",
      "Requirement already satisfied: kiwisolver>=1.3.1 in c:\\users\\hp\\appdata\\roaming\\python\\python312\\site-packages (from matplotlib<=3.10,>=3.5->ydata_profiling) (1.4.5)\n",
      "Requirement already satisfied: packaging>=20.0 in c:\\users\\hp\\appdata\\roaming\\python\\python312\\site-packages (from matplotlib<=3.10,>=3.5->ydata_profiling) (24.1)\n",
      "Requirement already satisfied: pyparsing>=2.3.1 in c:\\users\\hp\\appdata\\roaming\\python\\python312\\site-packages (from matplotlib<=3.10,>=3.5->ydata_profiling) (3.1.2)\n",
      "Requirement already satisfied: python-dateutil>=2.7 in c:\\users\\hp\\appdata\\roaming\\python\\python312\\site-packages (from matplotlib<=3.10,>=3.5->ydata_profiling) (2.9.0.post0)\n",
      "Requirement already satisfied: llvmlite<0.45,>=0.44.0dev0 in c:\\users\\hp\\appdata\\roaming\\python\\python312\\site-packages (from numba<=0.61,>=0.56.0->ydata_profiling) (0.44.0)\n",
      "Requirement already satisfied: pytz>=2020.1 in c:\\users\\hp\\appdata\\roaming\\python\\python312\\site-packages (from pandas!=1.4.0,<3.0,>1.1->ydata_profiling) (2024.1)\n",
      "Requirement already satisfied: tzdata>=2022.7 in c:\\users\\hp\\appdata\\roaming\\python\\python312\\site-packages (from pandas!=1.4.0,<3.0,>1.1->ydata_profiling) (2024.1)\n",
      "Requirement already satisfied: joblib>=0.14.1 in c:\\users\\hp\\appdata\\roaming\\python\\python312\\site-packages (from phik<0.13,>=0.11.1->ydata_profiling) (1.4.2)\n",
      "Requirement already satisfied: annotated-types>=0.6.0 in c:\\users\\hp\\appdata\\roaming\\python\\python312\\site-packages (from pydantic>=2->ydata_profiling) (0.7.0)\n",
      "Requirement already satisfied: pydantic-core==2.23.3 in c:\\users\\hp\\appdata\\roaming\\python\\python312\\site-packages (from pydantic>=2->ydata_profiling) (2.23.3)\n",
      "Requirement already satisfied: typing-extensions>=4.6.1 in c:\\users\\hp\\appdata\\roaming\\python\\python312\\site-packages (from pydantic>=2->ydata_profiling) (4.12.2)\n",
      "Requirement already satisfied: charset-normalizer<4,>=2 in c:\\users\\hp\\appdata\\roaming\\python\\python312\\site-packages (from requests<3,>=2.24.0->ydata_profiling) (3.3.2)\n",
      "Requirement already satisfied: idna<4,>=2.5 in c:\\users\\hp\\appdata\\roaming\\python\\python312\\site-packages (from requests<3,>=2.24.0->ydata_profiling) (3.7)\n",
      "Requirement already satisfied: urllib3<3,>=1.21.1 in c:\\users\\hp\\appdata\\roaming\\python\\python312\\site-packages (from requests<3,>=2.24.0->ydata_profiling) (2.2.2)\n",
      "Requirement already satisfied: certifi>=2017.4.17 in c:\\users\\hp\\appdata\\roaming\\python\\python312\\site-packages (from requests<3,>=2.24.0->ydata_profiling) (2024.7.4)\n",
      "Requirement already satisfied: patsy>=0.5.6 in c:\\users\\hp\\appdata\\roaming\\python\\python312\\site-packages (from statsmodels<1,>=0.13.2->ydata_profiling) (0.5.6)\n",
      "Requirement already satisfied: colorama in c:\\users\\hp\\appdata\\roaming\\python\\python312\\site-packages (from tqdm<5,>=4.48.2->ydata_profiling) (0.4.6)\n",
      "Requirement already satisfied: attrs>=19.3.0 in c:\\users\\hp\\appdata\\roaming\\python\\python312\\site-packages (from visions<0.8.2,>=0.7.5->visions[type_image_path]<0.8.2,>=0.7.5->ydata_profiling) (23.2.0)\n",
      "Requirement already satisfied: networkx>=2.4 in c:\\users\\hp\\appdata\\roaming\\python\\python312\\site-packages (from visions<0.8.2,>=0.7.5->visions[type_image_path]<0.8.2,>=0.7.5->ydata_profiling) (3.3)\n",
      "Requirement already satisfied: puremagic in c:\\users\\hp\\appdata\\roaming\\python\\python312\\site-packages (from visions<0.8.2,>=0.7.5->visions[type_image_path]<0.8.2,>=0.7.5->ydata_profiling) (1.28)\n",
      "Requirement already satisfied: six in c:\\users\\hp\\appdata\\roaming\\python\\python312\\site-packages (from patsy>=0.5.6->statsmodels<1,>=0.13.2->ydata_profiling) (1.16.0)\n",
      "Note: you may need to restart the kernel to use updated packages.\n"
     ]
    },
    {
     "name": "stderr",
     "output_type": "stream",
     "text": [
      "\n",
      "[notice] A new release of pip is available: 24.0 -> 25.0.1\n",
      "[notice] To update, run: python.exe -m pip install --upgrade pip\n"
     ]
    }
   ],
   "source": [
    "pip install ydata_profiling"
   ]
  },
  {
   "cell_type": "code",
   "execution_count": null,
   "metadata": {},
   "outputs": [],
   "source": []
  },
  {
   "cell_type": "code",
   "execution_count": null,
   "metadata": {},
   "outputs": [],
   "source": []
  }
 ],
 "metadata": {
  "kernelspec": {
   "display_name": "Python 3",
   "language": "python",
   "name": "python3"
  },
  "language_info": {
   "codemirror_mode": {
    "name": "ipython",
    "version": 3
   },
   "file_extension": ".py",
   "mimetype": "text/x-python",
   "name": "python",
   "nbconvert_exporter": "python",
   "pygments_lexer": "ipython3",
   "version": "3.12.2"
  }
 },
 "nbformat": 4,
 "nbformat_minor": 2
}
